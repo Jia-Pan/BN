{
 "cells": [
  {
   "cell_type": "code",
   "execution_count": 1,
   "metadata": {},
   "outputs": [],
   "source": [
    "from pgmpy.readwrite import BIFReader"
   ]
  },
  {
   "cell_type": "code",
   "execution_count": 5,
   "metadata": {},
   "outputs": [],
   "source": [
    "net = BIFReader(\"C:\\\\Users\\\\Jia\\\\Documents\\\\BIF\\\\asia.bif\")"
   ]
  },
  {
   "cell_type": "code",
   "execution_count": 6,
   "metadata": {},
   "outputs": [
    {
     "data": {
      "text/plain": [
       "[['asia', 'tub'],\n",
       " ['smoke', 'lung'],\n",
       " ['smoke', 'bronc'],\n",
       " ['lung', 'either'],\n",
       " ['tub', 'either'],\n",
       " ['either', 'xray'],\n",
       " ['bronc', 'dysp'],\n",
       " ['either', 'dysp']]"
      ]
     },
     "execution_count": 6,
     "metadata": {},
     "output_type": "execute_result"
    }
   ],
   "source": [
    "net.get_edges()"
   ]
  },
  {
   "cell_type": "code",
   "execution_count": 7,
   "metadata": {},
   "outputs": [
    {
     "data": {
      "text/plain": [
       "{'asia': [],\n",
       " 'tub': ['asia'],\n",
       " 'smoke': [],\n",
       " 'lung': ['smoke'],\n",
       " 'bronc': ['smoke'],\n",
       " 'either': ['lung', 'tub'],\n",
       " 'xray': ['either'],\n",
       " 'dysp': ['bronc', 'either']}"
      ]
     },
     "execution_count": 7,
     "metadata": {},
     "output_type": "execute_result"
    }
   ],
   "source": [
    "net.get_parents()"
   ]
  },
  {
   "cell_type": "code",
   "execution_count": null,
   "metadata": {},
   "outputs": [],
   "source": []
  }
 ],
 "metadata": {
  "kernelspec": {
   "display_name": "Python 3",
   "language": "python",
   "name": "python3"
  },
  "language_info": {
   "codemirror_mode": {
    "name": "ipython",
    "version": 3
   },
   "file_extension": ".py",
   "mimetype": "text/x-python",
   "name": "python",
   "nbconvert_exporter": "python",
   "pygments_lexer": "ipython3",
   "version": "3.7.4"
  }
 },
 "nbformat": 4,
 "nbformat_minor": 4
}
