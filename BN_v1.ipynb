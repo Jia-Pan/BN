{
 "cells": [
  {
   "cell_type": "code",
   "execution_count": 1,
   "metadata": {},
   "outputs": [],
   "source": [
    "import read_bayesnet\n",
    "from read_bayesnet import BayesianNetwork, Variable\n",
    "import pandas as pd"
   ]
  },
  {
   "cell_type": "code",
   "execution_count": 2,
   "metadata": {},
   "outputs": [
    {
     "name": "stdout",
     "output_type": "stream",
     "text": [
      "node :  asia \n",
      "parents :  [] \n",
      "markov blanket :  ['tub'] \n",
      "probs :  {'yes': 0.01, 'no': 0.99} \n",
      "\n",
      "node :  tub \n",
      "parents :  ['asia'] \n",
      "markov blanket :  ['lung', 'asia', 'either'] \n",
      "probs :  {('yes',): {'yes': 0.05, 'no': 0.95}, ('no',): {'yes': 0.01, 'no': 0.99}} \n",
      "\n",
      "node :  smoke \n",
      "parents :  [] \n",
      "markov blanket :  ['bronc', 'lung'] \n",
      "probs :  {'yes': 0.5, 'no': 0.5} \n",
      "\n",
      "node :  lung \n",
      "parents :  ['smoke'] \n",
      "markov blanket :  ['either', 'tub', 'smoke'] \n",
      "probs :  {('yes',): {'yes': 0.1, 'no': 0.9}, ('no',): {'yes': 0.01, 'no': 0.99}} \n",
      "\n",
      "node :  bronc \n",
      "parents :  ['smoke'] \n",
      "markov blanket :  ['dysp', 'either', 'smoke'] \n",
      "probs :  {('yes',): {'yes': 0.6, 'no': 0.4}, ('no',): {'yes': 0.3, 'no': 0.7}} \n",
      "\n",
      "node :  either \n",
      "parents :  ['lung', 'tub'] \n",
      "markov blanket :  ['bronc', 'tub', 'xray', 'dysp', 'lung'] \n",
      "probs :  {('yes', 'yes'): {'yes': 1.0, 'no': 0.0}, ('no', 'yes'): {'yes': 1.0, 'no': 0.0}, ('yes', 'no'): {'yes': 1.0, 'no': 0.0}, ('no', 'no'): {'yes': 0.0, 'no': 1.0}} \n",
      "\n",
      "node :  xray \n",
      "parents :  ['either'] \n",
      "markov blanket :  ['either'] \n",
      "probs :  {('yes',): {'yes': 0.98, 'no': 0.02}, ('no',): {'yes': 0.05, 'no': 0.95}} \n",
      "\n",
      "node :  dysp \n",
      "parents :  ['bronc', 'either'] \n",
      "markov blanket :  ['bronc', 'either'] \n",
      "probs :  {('yes', 'yes'): {'yes': 0.9, 'no': 0.1}, ('no', 'yes'): {'yes': 0.7, 'no': 0.3}, ('yes', 'no'): {'yes': 0.8, 'no': 0.2}, ('no', 'no'): {'yes': 0.1, 'no': 0.9}} \n",
      "\n"
     ]
    }
   ],
   "source": [
    "bn = BayesianNetwork(file='asia.bif')  # example usage for the supplied earthquake.bif file\n",
    "for v in bn.variables:\n",
    "    print('node : ',v.name,'\\nparents : ',v.parents,'\\nmarkov blanket : ',v.markov_blanket,'\\nprobs : ',v.probabilities,'\\n')"
   ]
  },
  {
   "cell_type": "markdown",
   "metadata": {},
   "source": [
    "# Running the algorithm with different iterations"
   ]
  },
  {
   "cell_type": "code",
   "execution_count": 6,
   "metadata": {},
   "outputs": [
    {
     "name": "stdout",
     "output_type": "stream",
     "text": [
      "{'asia': 'yes', 'tub': 'yes', 'smoke': 'no', 'lung': 'no', 'bronc': 'yes', 'either': 'no', 'xray': 'yes', 'dysp': 'yes'}\n"
     ]
    },
    {
     "data": {
      "text/plain": [
       "<matplotlib.axes._subplots.AxesSubplot at 0x7f2b775b13d0>"
      ]
     },
     "execution_count": 6,
     "metadata": {},
     "output_type": "execute_result"
    },
    {
     "data": {
      "image/png": "[encoded data removed]",
      "text/plain": [
       "<Figure size 1080x360 with 1 Axes>"
      ]
     },
     "metadata": {
      "needs_background": "light"
     },
     "output_type": "display_data"
    }
   ],
   "source": [
    "res, df = bn.gibbs_sampling(iterations=1,warm_up=10)\n",
    "df.plot(figsize=(15,5))"
   ]
  },
  {
   "cell_type": "code",
   "execution_count": null,
   "metadata": {},
   "outputs": [],
   "source": [
    "res"
   ]
  },
  {
   "cell_type": "code",
   "execution_count": null,
   "metadata": {},
   "outputs": [],
   "source": [
    "res, df = bn.gibbs_sampling(iterations=10)\n",
    "df.plot(figsize=(15,5))"
   ]
  },
  {
   "cell_type": "code",
   "execution_count": null,
   "metadata": {},
   "outputs": [],
   "source": [
    "res, df = bn.gibbs_sampling(iterations=20000)\n",
    "df.plot(figsize=(15,5))"
   ]
  },
  {
   "cell_type": "markdown",
   "metadata": {},
   "source": [
    "# Running the algorithms many times so it uses different samples"
   ]
  },
  {
   "cell_type": "code",
   "execution_count": null,
   "metadata": {},
   "outputs": [],
   "source": [
    "df = pd.DataFrame()\n",
    "\n",
    "for i in range(20):\n",
    "    results, _ = bn.gibbs_sampling(iterations=1)\n",
    "    df= df.append(results,ignore_index=True)\n",
    "    print(i,end='\\r')\n",
    "    \n",
    "df = df.applymap(lambda x : x['yes'])\n",
    "df.plot(figsize=(15,5))"
   ]
  },
  {
   "cell_type": "code",
   "execution_count": null,
   "metadata": {},
   "outputs": [],
   "source": [
    "' '.join(['ola','ole'])"
   ]
  },
  {
   "cell_type": "code",
   "execution_count": null,
   "metadata": {},
   "outputs": [],
   "source": []
  }
 ],
 "metadata": {
  "kernelspec": {
   "display_name": "Python 3",
   "language": "python",
   "name": "python3"
  },
  "language_info": {
   "codemirror_mode": {
    "name": "ipython",
    "version": 3
   },
   "file_extension": ".py",
   "mimetype": "text/x-python",
   "name": "python",
   "nbconvert_exporter": "python",
   "pygments_lexer": "ipython3",
   "version": "3.7.6"
  }
 },
 "nbformat": 4,
 "nbformat_minor": 4
}
